{
 "cells": [
  {
   "cell_type": "markdown",
   "id": "3ccb9da6",
   "metadata": {},
   "source": [
    "# Athena Corporate Recruitment Interview Project \n"
   ]
  },
  {
   "cell_type": "markdown",
   "id": "c93ef177",
   "metadata": {},
   "source": [
    "## Craigslist Vehicles Analysis"
   ]
  },
  {
   "cell_type": "markdown",
   "id": "7991df31",
   "metadata": {},
   "source": [
    "## Import Libraries"
   ]
  },
  {
   "cell_type": "code",
   "execution_count": null,
   "id": "ece8d4a9",
   "metadata": {},
   "outputs": [],
   "source": [
    "import pandas as pd\n",
    "import numpy as np\n",
    "import matplotlib.pyplot as plt\n",
    "import seaborn as sns"
   ]
  },
  {
   "cell_type": "markdown",
   "id": "2399626c",
   "metadata": {},
   "source": [
    "## Uploading the data"
   ]
  },
  {
   "cell_type": "code",
   "execution_count": null,
   "id": "c8473bc2",
   "metadata": {},
   "outputs": [],
   "source": [
    "data=pd.read_csv(r\"C:\\Users\\Ken\\Desktop\\My Learning\\Portfolio Projects\\Athena_corporate_project\\craigslist_vehicles.csv\")"
   ]
  },
  {
   "cell_type": "markdown",
   "id": "6ca8f30d",
   "metadata": {},
   "source": [
    "## Data Exploration"
   ]
  },
  {
   "cell_type": "code",
   "execution_count": null,
   "id": "f1b04d73",
   "metadata": {},
   "outputs": [],
   "source": [
    "data.head(10) ##Visualize to 10 rows"
   ]
  },
  {
   "cell_type": "code",
   "execution_count": null,
   "id": "41db208b",
   "metadata": {},
   "outputs": [],
   "source": [
    "data.dtypes  ##Explore data types of different columns"
   ]
  },
  {
   "cell_type": "code",
   "execution_count": null,
   "id": "e034dbd0",
   "metadata": {},
   "outputs": [],
   "source": [
    "data.isnull().sum()  ##Explore Null values"
   ]
  },
  {
   "cell_type": "code",
   "execution_count": null,
   "id": "3bdaf72e",
   "metadata": {},
   "outputs": [],
   "source": [
    "data.describe() ## Describe the different metrics of data before cleaning"
   ]
  },
  {
   "cell_type": "code",
   "execution_count": null,
   "id": "2322c4fa",
   "metadata": {},
   "outputs": [],
   "source": [
    "data.info() ## Show varied info about the data (range of data, shape, column names, Non_null count, datatypes) before any formating"
   ]
  },
  {
   "cell_type": "code",
   "execution_count": null,
   "id": "a25a7c1c",
   "metadata": {},
   "outputs": [],
   "source": [
    "## Format different column datatypes appropriately \n",
    "\n",
    "data['year'] = data['year'].astype('Int64')\n",
    "data['odometer'] = data['odometer'].astype('Int64')\n",
    "data['posting_date'] = pd.to_datetime(data['posting_date'])\n",
    "data['county'] = data['county'].astype('str')\n",
    "data['state'] = data['state'].astype('str')\n",
    "data['cylinders'] = pd.to_numeric(data['cylinders'], errors='coerce').astype('Int64')\n",
    "data['VIN'] = pd.to_numeric(data['VIN'], errors='coerce').astype('Int64')\n",
    "data['lat'] = data['lat'].astype('float')\n",
    "data['long'] = data['long'].astype('float')\n",
    "\n",
    "print(data.head(10).dtypes)\n"
   ]
  },
  {
   "cell_type": "code",
   "execution_count": null,
   "id": "c1b43a81",
   "metadata": {},
   "outputs": [],
   "source": [
    "data.head(10) ##Visualize top 10 rows of the data"
   ]
  },
  {
   "cell_type": "code",
   "execution_count": null,
   "id": "34b70b1b",
   "metadata": {},
   "outputs": [],
   "source": [
    "data.isnull().sum() ## Show the null values of the data after formating the datatypes "
   ]
  },
  {
   "cell_type": "code",
   "execution_count": null,
   "id": "1f6ddcab",
   "metadata": {},
   "outputs": [],
   "source": [
    "data.describe()   ## describe the different metrics of  the data after formating the datatypes "
   ]
  },
  {
   "cell_type": "code",
   "execution_count": null,
   "id": "ade8e200",
   "metadata": {},
   "outputs": [],
   "source": [
    "data.info()   ## Show varied info about the data (range of data, shape, column names, Non_null count, datatypes) after  formating"
   ]
  },
  {
   "cell_type": "code",
   "execution_count": null,
   "id": "71b27b4f",
   "metadata": {},
   "outputs": [],
   "source": [
    "##Understsanding the data that needs extra formating and cleaning, imputation etc\n",
    "\n",
    "price_threshold = data['price'].quantile(0.9999)\n",
    "price_outliers = data[data['price'] > data['price'].quantile(0.9999)]\n",
    "max_price = data['price'].max()\n",
    "min_price = data['price'].min()\n",
    "count_above_threshold = price_outliers['price'].shape[0]\n",
    "unrealistic_years_count = data[data['year'] <= 1900].shape[0]\n",
    "missing_cylinders_count = data[data['cylinders'].isnull()].shape[0]\n",
    "missing_vin = data[data['VIN'].isnull()].shape[0]\n",
    "low_price_entries = data[data['price'] < 100].shape[0]\n",
    "manufacturing_years_lowest_threshold = 1900\n",
    "null_counts_per_row = data.isnull().sum(axis=1)\n",
    "rows_with_more_than_15_nulls = data[null_counts_per_row > 15]\n",
    "\n",
    "print(f\"Rows with more than 15 nulls: {rows_with_more_than_15_nulls.shape[0]}\")\n",
    "print(f\"Maximum Price threshold: {price_threshold}\")\n",
    "print(f\"Minimum Price threshold: {100}\")\n",
    "print(f\"Maximum price: {max_price}\")\n",
    "print(f\"Minimum price: {min_price}\")\n",
    "print(f\"manufacturing years Lowest threshold: {manufacturing_years_lowest_threshold}\")\n",
    "#print(f\"Minimum Price threshold: {manufacturing_years_Lowest_threshold}\")\n",
    "print(f\"Number of vehicles with price above 99th percentile: {count_above_threshold}\")\n",
    "print(f\"Number of entries with prices below {100}: {low_price_entries}\")\n",
    "print(f\"Number of entries with unrealistic manufacturing years: {unrealistic_years_count}\")\n",
    "print(f\"Number of entries with missing cylinders: {missing_cylinders_count}\")\n",
    "print(f\"Number of entries with missing VIN: {missing_vin}\")\n"
   ]
  },
  {
   "cell_type": "code",
   "execution_count": null,
   "id": "49071395",
   "metadata": {},
   "outputs": [],
   "source": [
    "price_outliers.head(40)"
   ]
  },
  {
   "cell_type": "code",
   "execution_count": null,
   "id": "b0d90215",
   "metadata": {},
   "outputs": [],
   "source": [
    "# Count the number of rows with null and empty values\n",
    "null_counts_per_row = data.isnull().sum(axis=1)\n",
    "rows_with_more_than_10_nulls = data[null_counts_per_row > 15]\n",
    "print(rows_with_more_than_10_nulls.shape[0])"
   ]
  },
  {
   "cell_type": "markdown",
   "id": "7047bed7",
   "metadata": {},
   "source": [
    "## Data Preprocessing"
   ]
  },
  {
   "cell_type": "code",
   "execution_count": null,
   "id": "3251f21f",
   "metadata": {},
   "outputs": [],
   "source": [
    "# Drop the unnecessary columns\n",
    "data = data.drop(['id'], axis=1)\n",
    "data = data.rename(columns={'Unnamed: 0': 'index'})\n",
    "data = data.sort_values(by='index').reset_index(drop=True)"
   ]
  },
  {
   "cell_type": "code",
   "execution_count": null,
   "id": "3104ef8d",
   "metadata": {},
   "outputs": [],
   "source": [
    "data.head()"
   ]
  },
  {
   "cell_type": "code",
   "execution_count": null,
   "id": "44b4d2f1",
   "metadata": {},
   "outputs": [],
   "source": [
    "data = data.dropna(thresh=data.shape[1] - 15)  ##Dropping the rows with more than 15 empty columns\n"
   ]
  },
  {
   "cell_type": "code",
   "execution_count": null,
   "id": "6ec45224",
   "metadata": {},
   "outputs": [],
   "source": [
    "## Preprocessing price, year, cylinders, odometer, VIN, latitude and longitude columns\n",
    "\n",
    "data = data[data['price'] <= data['price'].quantile(0.9999)]\n",
    "data = data[data['year'] > 1900]\n",
    "data = data.drop(columns=['cylinders'])\n",
    "data['odometer'].fillna(data['odometer'].median(), inplace=True)\n",
    "data = data.drop(columns=['VIN'])\n",
    "data['lat'] = data.groupby('state')['lat'].transform(lambda x: x.fillna(x.mean()))\n",
    "data['long'] = data.groupby('state')['long'].transform(lambda x: x.fillna(x.mean()))\n"
   ]
  },
  {
   "cell_type": "code",
   "execution_count": null,
   "id": "053ad8f4",
   "metadata": {},
   "outputs": [],
   "source": [
    "data.head() ## Showing new colunms after initial preprocessing "
   ]
  },
  {
   "cell_type": "markdown",
   "id": "ee934aca",
   "metadata": {},
   "source": [
    "## Data Enrichment"
   ]
  },
  {
   "cell_type": "code",
   "execution_count": null,
   "id": "0aeec316",
   "metadata": {},
   "outputs": [],
   "source": [
    "## Creating additional columsn from the already available columns\n",
    "\n",
    "data = data.apply(lambda x: x.str.strip() if x.dtype == 'O' else x)\n",
    "data['posting_date'] = pd.to_datetime(data['posting_date'])\n",
    "data['removal_date'] = pd.to_datetime(data['removal_date'])\n",
    "\n",
    "data['time_to_sell'] = data['removal_date'] - data['posting_date']\n",
    "data['posting_date_year'] = data['posting_date'].dt.year\n",
    "data['posting_date_month'] = data['posting_date'].dt.month\n",
    "data['posting_date_day'] = data['posting_date'].dt.day\n",
    "data['removal_date_year'] = data['removal_date'].dt.year\n",
    "data['removal_date_month'] = data['removal_date'].dt.month\n",
    "data['removal_date_day'] = data['removal_date'].dt.day\n",
    "\n",
    "data.head()\n"
   ]
  },
  {
   "cell_type": "code",
   "execution_count": null,
   "id": "042bc623",
   "metadata": {},
   "outputs": [],
   "source": [
    "data.dtypes ## Showing datatypes after cleaniing and preprocessing"
   ]
  },
  {
   "cell_type": "code",
   "execution_count": null,
   "id": "08e76920",
   "metadata": {
    "scrolled": true
   },
   "outputs": [],
   "source": [
    "data.describe() ##Describing the data after cleaning and preprocessing"
   ]
  },
  {
   "cell_type": "markdown",
   "id": "9c9526fc",
   "metadata": {},
   "source": [
    "## Visualization"
   ]
  },
  {
   "cell_type": "code",
   "execution_count": null,
   "id": "20451255",
   "metadata": {},
   "outputs": [],
   "source": [
    "data['posting_date'] = pd.to_datetime(data['posting_date'])\n",
    "data['posting_month'] = data['posting_date'].dt.month\n",
    "monthly_posted_vehicles = data.groupby('posting_month').size().reset_index(name='num_vehicles')\n",
    "plt.figure(figsize=(10, 6))\n",
    "sns.barplot(x='posting_month', y='num_vehicles', data=monthly_posted_vehicles)\n",
    "plt.title('Number of Vehicles Posted Each Month')\n",
    "plt.xlabel('Month')\n",
    "plt.ylabel('Number of Vehicles Posted')\n",
    "plt.show()"
   ]
  },
  {
   "cell_type": "code",
   "execution_count": null,
   "id": "3b227e78",
   "metadata": {},
   "outputs": [],
   "source": [
    "data['posting_date'] = pd.to_datetime(data['posting_date'])\n",
    "data['posting_day'] = data['posting_date'].dt.day\n",
    "daily_posted_vehicles = data.groupby('posting_day').size().reset_index(name='num_vehicles')\n",
    "plt.figure(figsize=(12, 6))\n",
    "sns.barplot(x='posting_day', y='num_vehicles', data=daily_posted_vehicles, palette='muted')\n",
    "plt.title('Number of Vehicles Posted Each Day of the Month')\n",
    "plt.xlabel('Day of the Month')\n",
    "plt.ylabel('Number of Vehicles Posted')\n",
    "plt.show()"
   ]
  },
  {
   "cell_type": "code",
   "execution_count": null,
   "id": "5237525c",
   "metadata": {},
   "outputs": [],
   "source": [
    "state_listing_counts = data['state'].value_counts().reset_index().rename(columns={'index': 'state', 'state': 'num_listings'})\n",
    "state_listing_counts.head(25)"
   ]
  },
  {
   "cell_type": "code",
   "execution_count": null,
   "id": "1e2d6af8",
   "metadata": {},
   "outputs": [],
   "source": [
    "plt.figure(figsize=(15, 8))\n",
    "sns.barplot(x='num_listings', y='count', data=state_listing_counts, palette='viridis')\n",
    "plt.title('Number of Listings in Different States')\n",
    "plt.xlabel('State')\n",
    "plt.ylabel('Number of Listings')\n",
    "plt.xticks(rotation=45, ha='right')  # Rotate x-axis labels for better visibility\n",
    "plt.show()"
   ]
  },
  {
   "cell_type": "code",
   "execution_count": null,
   "id": "adb16841",
   "metadata": {},
   "outputs": [],
   "source": [
    "state_time_series = data.groupby(['state', 'posting_date']).size().reset_index(name='num_listings')\n",
    "plt.figure(figsize=(15, 8))\n",
    "sns.lineplot(x='posting_date', y='num_listings', hue='state', data=state_time_series, palette='viridis')\n",
    "plt.title('Availability of Vehicles in Different States Over Time')\n",
    "plt.xlabel('Posting Date')\n",
    "plt.ylabel('Number of Listings')\n",
    "plt.legend(title='State', loc='upper left', bbox_to_anchor=(1, 1))\n",
    "plt.show()"
   ]
  },
  {
   "cell_type": "code",
   "execution_count": null,
   "id": "93797d11",
   "metadata": {},
   "outputs": [],
   "source": [
    "selected_region = 'ga' ##Select the state here eg (ca,wy,ny,va,ok,sc,nv,sc,nc,oh) etc"
   ]
  },
  {
   "cell_type": "code",
   "execution_count": null,
   "id": "ddf3c1e9",
   "metadata": {},
   "outputs": [],
   "source": [
    "data['posting_date'] = pd.to_datetime(data['posting_date'])\n",
    "time_series_data = data[['posting_date', 'state', 'manufacturer']]\n",
    "time_series_counts = time_series_data.groupby(['posting_date', 'state', 'manufacturer']).size().reset_index(name='num_vehicles')\n",
    "filtered_data = time_series_counts[time_series_counts['state'] == selected_region]\n",
    "\n",
    "plt.figure(figsize=(12, 6))\n",
    "sns.lineplot(x='posting_date', y='num_vehicles', hue='manufacturer', data=filtered_data)\n",
    "plt.title(f'Number of Available Vehicles Over Time in {selected_region}')\n",
    "plt.xlabel('Posting Date')\n",
    "plt.xticks(rotation=45, ha='right') \n",
    "plt.ylabel('Number of Vehicles')\n",
    "plt.legend(title='manufacturer', loc='upper right', bbox_to_anchor=(1, 1)) ##supported values are 'best', 'upper right', 'upper left', 'lower left', 'lower right', 'right', 'center left', 'center right', 'lower center', 'upper center', 'center'\n",
    "plt.show()\n"
   ]
  },
  {
   "cell_type": "code",
   "execution_count": null,
   "id": "2866b4f4",
   "metadata": {},
   "outputs": [],
   "source": [
    "selected_columns = ['price', 'year', 'posting_date', 'removal_date', 'time_to_sell', 'posting_date_month', 'posting_date_day']\n",
    "selected_data = data[selected_columns]\n",
    "selected_data['posting_date'] = pd.to_datetime(selected_data['posting_date'])\n",
    "selected_data['removal_date'] = pd.to_datetime(selected_data['removal_date'])\n",
    "correlation_matrix = selected_data.corr()\n",
    "plt.figure(figsize=(12, 8))\n",
    "sns.heatmap(correlation_matrix, annot=True, cmap='coolwarm', fmt='.2f', linewidths=0.5)\n",
    "plt.title('Correlation Matrix')\n",
    "plt.show()"
   ]
  },
  {
   "cell_type": "code",
   "execution_count": null,
   "id": "009efb03",
   "metadata": {},
   "outputs": [],
   "source": []
  }
 ],
 "metadata": {
  "kernelspec": {
   "display_name": "Python 3 (ipykernel)",
   "language": "python",
   "name": "python3"
  },
  "language_info": {
   "codemirror_mode": {
    "name": "ipython",
    "version": 3
   },
   "file_extension": ".py",
   "mimetype": "text/x-python",
   "name": "python",
   "nbconvert_exporter": "python",
   "pygments_lexer": "ipython3",
   "version": "3.9.16"
  }
 },
 "nbformat": 4,
 "nbformat_minor": 5
}
